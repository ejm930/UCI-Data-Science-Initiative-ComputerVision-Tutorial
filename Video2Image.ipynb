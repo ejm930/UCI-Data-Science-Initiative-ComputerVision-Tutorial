{
 "cells": [
  {
   "cell_type": "markdown",
   "metadata": {},
   "source": [
    "# Document Details\n",
    "### Author:       Eric Medwedeff\n",
    "### Date:         4/2/2019\n",
    "### Program Name: Video2Image\n",
    "\n",
    "### Details:\n",
    "This program reads in a video from the user specified directory and writes the output to the user specified directory. "
   ]
  },
  {
   "cell_type": "markdown",
   "metadata": {},
   "source": [
    "## First Step is to get our Imports"
   ]
  },
  {
   "cell_type": "code",
   "execution_count": 32,
   "metadata": {},
   "outputs": [],
   "source": [
    "import cv2 #For video processing\n",
    "import numpy as np #For numerical tasks\n",
    "import logging #For tracking purposes to be added later\n",
    "import sys #For our nifty print"
   ]
  },
  {
   "cell_type": "markdown",
   "metadata": {},
   "source": [
    "### A nifty little printer to make our output tidy and some helper function(s)"
   ]
  },
  {
   "cell_type": "code",
   "execution_count": 33,
   "metadata": {},
   "outputs": [],
   "source": [
    "def printer(index, length):\n",
    "    sys.stdout.write(f\"\\rProcessing sample {index+1} of {length}\")\n",
    "    sys.stdout.flush()\n",
    "    \n",
    "def saveImage(outputPath, frame, count):\n",
    "    outputNamePath = (\"{}{}.jpeg\").format(outputPath, str(count).zfill(6))\n",
    "    cv2.imwrite(outputNamePath, frame)"
   ]
  },
  {
   "cell_type": "markdown",
   "metadata": {},
   "source": [
    "## Second step is to load our args and the video"
   ]
  },
  {
   "cell_type": "code",
   "execution_count": 38,
   "metadata": {},
   "outputs": [],
   "source": [
    "class dummyStuff:\n",
    "    def __init__(self):\n",
    "        self.video_path = \"videos/sample.mp4\"\n",
    "        self.output_path = \"videoImages/\"\n",
    "        self.display = False\n",
    "        #self.resolution = 1080\n",
    "        \n",
    "args = dummyStuff()\n",
    "\n",
    "#Set the args\n",
    "videoPath = args.video_path\n",
    "outputPath = args.output_path\n",
    "display = args.display\n",
    "#dim = (256, 144) #Only works for 16:9 aspect ration\n",
    "\n",
    "#Open the video\n",
    "cap = cv2.VideoCapture(videoPath)\n",
    "\n",
    "#Grab the number of frames we expect\n",
    "length = int(cap.get(cv2.CAP_PROP_FRAME_COUNT))\n",
    "width = int(cv2.CAP_PROP_FRAME_WIDTH)\n",
    "height = int(cv2.CAP_PROP_FRAME_HEIGHT)\n",
    "#Normally not an int, but here we extract a frame a second!\n",
    "fps = int(cap.get(cv2.CAP_PROP_FPS))\n",
    "\n",
    "#Check if the video opened successfully otherwise exit\n",
    "if(cap.isOpened() == False):\n",
    "    raise RuntimeError(\"Error opening the videostream or file!\\n\")"
   ]
  },
  {
   "cell_type": "markdown",
   "metadata": {},
   "source": [
    "## Playing Videos"
   ]
  },
  {
   "cell_type": "code",
   "execution_count": 39,
   "metadata": {},
   "outputs": [],
   "source": [
    "while(cap.isOpened()):\n",
    "    ret, frame = cap.read()\n",
    "\n",
    "    #laplacian = cv2.Laplacian(frame,cv2.CV_64F)\n",
    "\n",
    "    cv2.imshow('frame',frame)\n",
    "    if cv2.waitKey(1) & 0xFF == ord('q'):\n",
    "        break\n",
    "\n",
    "cap.release()\n",
    "cv2.destroyAllWindows()"
   ]
  },
  {
   "cell_type": "markdown",
   "metadata": {},
   "source": [
    "## Getting Frames and Saving"
   ]
  },
  {
   "cell_type": "code",
   "execution_count": 42,
   "metadata": {},
   "outputs": [],
   "source": [
    "#Open the video\n",
    "cap = cv2.VideoCapture(videoPath)\n",
    "\n",
    "#Grab the number of frames we expect\n",
    "length = int(cap.get(cv2.CAP_PROP_FRAME_COUNT))\n",
    "width = int(cv2.CAP_PROP_FRAME_WIDTH)\n",
    "height = int(cv2.CAP_PROP_FRAME_HEIGHT)\n",
    "#Normally not an int, but here we extract a frame a second!\n",
    "fps = int(cap.get(cv2.CAP_PROP_FPS))\n",
    "\n",
    "#Check if the video opened successfully otherwise exit\n",
    "if(cap.isOpened() == False):\n",
    "    raise RuntimeError(\"Error opening the videostream or file!\\n\")"
   ]
  },
  {
   "cell_type": "code",
   "execution_count": 43,
   "metadata": {},
   "outputs": [
    {
     "name": "stdout",
     "output_type": "stream",
     "text": [
      "Processing sample 200 of 2932"
     ]
    }
   ],
   "source": [
    "#Set a counter to track the frames\n",
    "#May experience underflow if we have too many frames!!!\n",
    "count = 0\n",
    "#Read the video unitl it's complete, if dispay is false we won't see any video output\n",
    "while(cap.isOpened()):\n",
    "    #Show our status\n",
    "    printer(count, length)\n",
    "    #Capture and read each frame using ret to check for success\n",
    "    ret, frame = cap.read()\n",
    "    if (ret == True): #We're good, but may have issues if video is corrupted\n",
    "        #First resize the image to specified size\n",
    "        #Always make sure to choose an appropriate interpolator!\n",
    "        #frame = cv2.resize(frame, dim, interpolation = cv2.INTER_AREA) \n",
    "        if(display):\n",
    "            #Show the image\n",
    "            cv2.imshow(\"Frame\", frame)\n",
    "            # Press Q to exit\n",
    "            if (cv2.waitKey(25) & 0xFF == ord('q')):\n",
    "                break\n",
    "        #Save every second and the last frame\n",
    "        #if((count % int(fps/2) == 0 and count >= int(fps/2)) or count == length):\n",
    "        saveImage(outputPath, frame, count)\n",
    "        #Update the frame count\n",
    "        count = count + 1\n",
    "        if(count == 200):\n",
    "            break\n",
    "    else: #No frame returned, so exit\n",
    "        break\n",
    "#Close the video stream and destroy all windows\n",
    "cap.release()\n",
    "cv2.destroyAllWindows()"
   ]
  },
  {
   "cell_type": "markdown",
   "metadata": {},
   "source": [
    "## Modify and Save Videos"
   ]
  },
  {
   "cell_type": "code",
   "execution_count": 53,
   "metadata": {},
   "outputs": [],
   "source": [
    "#Open the video\n",
    "cap = cv2.VideoCapture(videoPath)\n",
    "\n",
    "#Grab the number of frames we expect\n",
    "length = int(cap.get(cv2.CAP_PROP_FRAME_COUNT))\n",
    "width = int(cv2.CAP_PROP_FRAME_WIDTH)\n",
    "height = int(cv2.CAP_PROP_FRAME_HEIGHT)\n",
    "#Normally not an int, but here we extract a frame a second!\n",
    "fps = int(cap.get(cv2.CAP_PROP_FPS))\n",
    "\n",
    "#Check if the video opened successfully otherwise exit\n",
    "if(cap.isOpened() == False):\n",
    "    raise RuntimeError(\"Error opening the videostream or file!\\n\")"
   ]
  },
  {
   "cell_type": "code",
   "execution_count": 54,
   "metadata": {},
   "outputs": [],
   "source": [
    "# Define the codec and create VideoWriter object\n",
    "fourcc = cv2.VideoWriter_fourcc('M','J','P','G')\n",
    "out = cv2.VideoWriter('videos/output.avi',fourcc, fps, (width,height))\n",
    "\n",
    "while(cap.isOpened()):\n",
    "    ret, frame = cap.read()\n",
    "    if ret==True:\n",
    "        frame = cv2.flip(frame,0)\n",
    "\n",
    "        # write the flipped frame\n",
    "        out.write(frame)\n",
    "\n",
    "        cv2.imshow('frame',frame)\n",
    "        if cv2.waitKey(1) & 0xFF == ord('q'):\n",
    "            break\n",
    "    else:\n",
    "        break\n",
    "\n",
    "# Release everything if job is finished\n",
    "cap.release()\n",
    "out.release()\n",
    "cv2.destroyAllWindows()"
   ]
  },
  {
   "cell_type": "code",
   "execution_count": null,
   "metadata": {},
   "outputs": [],
   "source": []
  }
 ],
 "metadata": {
  "kernelspec": {
   "display_name": "Python 3",
   "language": "python",
   "name": "python3"
  },
  "language_info": {
   "codemirror_mode": {
    "name": "ipython",
    "version": 3
   },
   "file_extension": ".py",
   "mimetype": "text/x-python",
   "name": "python",
   "nbconvert_exporter": "python",
   "pygments_lexer": "ipython3",
   "version": "3.7.2"
  }
 },
 "nbformat": 4,
 "nbformat_minor": 2
}
